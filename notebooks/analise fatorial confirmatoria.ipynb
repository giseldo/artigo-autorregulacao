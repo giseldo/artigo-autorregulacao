{
 "cells": [
  {
   "cell_type": "markdown",
   "metadata": {},
   "source": [
    "# Análise Confirmatória"
   ]
  },
  {
   "cell_type": "code",
   "execution_count": 3,
   "metadata": {},
   "outputs": [],
   "source": [
    "from semopy import Model, calc_stats\n",
    "import pandas as pd"
   ]
  },
  {
   "cell_type": "code",
   "execution_count": 4,
   "metadata": {},
   "outputs": [
    {
     "name": "stdout",
     "output_type": "stream",
     "text": [
      "       DoF  DoF Baseline         chi2  chi2 p-value  chi2 Baseline       CFI  \\\n",
      "Value  723           820  1722.634149           0.0    2528.088873  0.414765   \n",
      "\n",
      "            GFI      AGFI       NFI       TLI     RMSEA         AIC  \\\n",
      "Value  0.318602  0.227184  0.318602  0.336247  0.181437  195.877481   \n",
      "\n",
      "              BIC     LogLik  \n",
      "Value  438.923097  40.061259  \n"
     ]
    }
   ],
   "source": [
    "df = pd.read_csv(\"..\\data\\questionario_assertivas.csv\", delimiter=\";\")\n",
    "df = df.drop(columns=['P28', 'P35'])\n",
    "\n",
    "model_desc = \"\"\"\n",
    "Orientação_a_Metas_Intrínsecas =~ P1 + P10\n",
    "Orientação_a_Metas_Extrínsecas =~ P2 + P13\n",
    "Valorização_da_Atividade =~ P4 + P5 + P7 + P15 + P17 + P21\n",
    "Controle_do_Aprendizado =~ P9 + P16 + P18\n",
    "Autoeficácia_para_Aprendizado =~ P6 + P8 + P11 + P19\n",
    "Ansiedade_em_Testes =~ P3 + P12 + P20 + P22 + P30\n",
    "Memorização =~ P24 + P32 + P34 + P36 + P41\n",
    "Elaboração =~ P23 + P41 \n",
    "Organização =~ P26 + P31 + P42\n",
    "Autorregulação_Metacognitiva =~ P25 + P37 + P38 + P39 + P40\n",
    "Administração_de_Esforços =~ P14 + P27 + P29 + P33 + P43\n",
    "\"\"\"\n",
    "\n",
    "model = Model(model_desc)\n",
    "model.fit(df)\n",
    "\n",
    "stats = calc_stats(model=model)\n",
    "print(stats)"
   ]
  }
 ],
 "metadata": {
  "kernelspec": {
   "display_name": "Python 3",
   "language": "python",
   "name": "python3"
  },
  "language_info": {
   "codemirror_mode": {
    "name": "ipython",
    "version": 3
   },
   "file_extension": ".py",
   "mimetype": "text/x-python",
   "name": "python",
   "nbconvert_exporter": "python",
   "pygments_lexer": "ipython3",
   "version": "3.10.11"
  }
 },
 "nbformat": 4,
 "nbformat_minor": 2
}
